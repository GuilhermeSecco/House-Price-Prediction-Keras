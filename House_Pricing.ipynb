{
 "cells": [
  {
   "cell_type": "code",
   "execution_count": 1,
   "id": "2e48e231-16bf-4b00-a60d-237e00b198d0",
   "metadata": {},
   "outputs": [],
   "source": [
    "#Importando as Bibliotecas"
   ]
  },
  {
   "cell_type": "code",
   "execution_count": 2,
   "id": "73790a62-87f9-4d3f-8413-bc4f7e569fb7",
   "metadata": {},
   "outputs": [],
   "source": [
    "import pandas as pd\n",
    "import numpy as np\n",
    "import matplotlib.pyplot as plt\n",
    "import keras\n",
    "from sklearn.model_selection import train_test_split\n",
    "from sklearn.preprocessing import MinMaxScaler\n",
    "from keras import Input\n",
    "from keras.layers import Dense, Dropout\n",
    "from keras.models import Sequential\n",
    "from keras.optimizers import Adam"
   ]
  },
  {
   "cell_type": "code",
   "execution_count": 3,
   "id": "c4e3806e-a10a-48e8-a957-d570f22dbc01",
   "metadata": {},
   "outputs": [],
   "source": [
    "#Importando o Dataset"
   ]
  },
  {
   "cell_type": "code",
   "execution_count": 4,
   "id": "7bc7b3f5-8e7a-4582-9b65-9455a4432220",
   "metadata": {},
   "outputs": [],
   "source": [
    "df = pd.read_csv('kc_house_data.csv')"
   ]
  },
  {
   "cell_type": "code",
   "execution_count": 5,
   "id": "ed530274-fc89-4d3e-a285-b8b6ccb4f627",
   "metadata": {},
   "outputs": [],
   "source": [
    "#Verificando as Colunas"
   ]
  },
  {
   "cell_type": "code",
   "execution_count": 6,
   "id": "72856200-d38e-45ca-84f0-e5b419c95f0a",
   "metadata": {},
   "outputs": [
    {
     "data": {
      "text/plain": [
       "Index(['id', 'date', 'price', 'bedrooms', 'bathrooms', 'sqft_living',\n",
       "       'sqft_lot', 'floors', 'waterfront', 'view', 'condition', 'grade',\n",
       "       'sqft_above', 'sqft_basement', 'yr_built', 'yr_renovated', 'zipcode',\n",
       "       'lat', 'long', 'sqft_living15', 'sqft_lot15'],\n",
       "      dtype='object')"
      ]
     },
     "execution_count": 6,
     "metadata": {},
     "output_type": "execute_result"
    }
   ],
   "source": [
    "df.columns"
   ]
  },
  {
   "cell_type": "code",
   "execution_count": 7,
   "id": "e53b90da-c972-46c8-8550-fab5bd3e74fb",
   "metadata": {},
   "outputs": [],
   "source": [
    "#Verificando se existem valores nulos"
   ]
  },
  {
   "cell_type": "code",
   "execution_count": 8,
   "id": "f3e1832a-66c5-4ea1-aaff-11c370321505",
   "metadata": {},
   "outputs": [
    {
     "data": {
      "text/plain": [
       "id               0\n",
       "date             0\n",
       "price            0\n",
       "bedrooms         0\n",
       "bathrooms        0\n",
       "sqft_living      0\n",
       "sqft_lot         0\n",
       "floors           0\n",
       "waterfront       0\n",
       "view             0\n",
       "condition        0\n",
       "grade            0\n",
       "sqft_above       0\n",
       "sqft_basement    0\n",
       "yr_built         0\n",
       "yr_renovated     0\n",
       "zipcode          0\n",
       "lat              0\n",
       "long             0\n",
       "sqft_living15    0\n",
       "sqft_lot15       0\n",
       "dtype: int64"
      ]
     },
     "execution_count": 8,
     "metadata": {},
     "output_type": "execute_result"
    }
   ],
   "source": [
    "df.isnull().sum()"
   ]
  },
  {
   "cell_type": "code",
   "execution_count": 9,
   "id": "1eae43af-b6f0-4286-923d-4844106a9325",
   "metadata": {},
   "outputs": [],
   "source": [
    "#Separando os Valores que serão utilizados na predição"
   ]
  },
  {
   "cell_type": "code",
   "execution_count": 10,
   "id": "b30fe6e0-624a-4d51-821b-d1a250f959cf",
   "metadata": {},
   "outputs": [],
   "source": [
    "X = df.iloc[:, 3:].values\n",
    "x = X[:, np.r_[0:13,14,18:]]\n",
    "y = df.iloc[:,2].values"
   ]
  },
  {
   "cell_type": "code",
   "execution_count": 11,
   "id": "62b61283-ad59-47d1-a8ee-d1951ff4f947",
   "metadata": {},
   "outputs": [],
   "source": [
    "#Separando entre Treino e Teste"
   ]
  },
  {
   "cell_type": "code",
   "execution_count": 12,
   "id": "33295d20-452e-4ae0-9d1c-effb60843f79",
   "metadata": {},
   "outputs": [],
   "source": [
    "xTrain, xTest, yTrain, yTest = train_test_split(x,y,test_size= 0.2,random_state=0)"
   ]
  },
  {
   "cell_type": "code",
   "execution_count": 13,
   "id": "007f22a4-a10c-480a-b54f-8bb39ac7e4d6",
   "metadata": {},
   "outputs": [],
   "source": [
    "#Escalonando Valores"
   ]
  },
  {
   "cell_type": "code",
   "execution_count": 14,
   "id": "4b9ee358-b540-4422-b8e5-e51fb7e54740",
   "metadata": {},
   "outputs": [],
   "source": [
    "xscaler = MinMaxScaler(feature_range=(0,1))\n",
    "xTrain = xscaler.fit_transform(xTrain)\n",
    "xTest = xscaler.transform(xTest)"
   ]
  },
  {
   "cell_type": "code",
   "execution_count": 15,
   "id": "f166720c-466b-4f2f-9041-53cf49e02ba5",
   "metadata": {},
   "outputs": [],
   "source": [
    "yscaler = MinMaxScaler(feature_range=(0,1))\n",
    "yTrain = yscaler.fit_transform(yTrain.reshape(-1,1))\n",
    "yTest = yscaler.transform(yTest.reshape(-1,1))"
   ]
  },
  {
   "cell_type": "code",
   "execution_count": 16,
   "id": "f5b31c35-c934-418e-acd0-3794be0f97ae",
   "metadata": {},
   "outputs": [],
   "source": [
    "#Criando Modelo"
   ]
  },
  {
   "cell_type": "code",
   "execution_count": 17,
   "id": "24f12cb4-2e61-4776-aa10-fee8d47af34f",
   "metadata": {
    "scrolled": true
   },
   "outputs": [],
   "source": [
    "model = Sequential()\n",
    "model.add(Input(shape = (x.shape[1],)))\n",
    "model.add(Dense(units = 16, activation = 'linear'))\n",
    "model.add(Dense(units = 1, activation = 'linear'))\n",
    "model.compile(optimizer = Adam(learning_rate = 0.001), loss = 'mse', metrics = ['mean_absolute_error'])"
   ]
  },
  {
   "cell_type": "code",
   "execution_count": 18,
   "id": "94cdaf22-e9a7-4699-98e2-3a99c8f46008",
   "metadata": {},
   "outputs": [],
   "source": [
    "#Aplicando o Modelo"
   ]
  },
  {
   "cell_type": "code",
   "execution_count": 19,
   "id": "fe05ce64-dc6e-4f2e-adf4-c4708c5a5091",
   "metadata": {
    "scrolled": true
   },
   "outputs": [
    {
     "name": "stdout",
     "output_type": "stream",
     "text": [
      "Epoch 1/100\n",
      "\u001b[1m541/541\u001b[0m \u001b[32m━━━━━━━━━━━━━━━━━━━━\u001b[0m\u001b[37m\u001b[0m \u001b[1m1s\u001b[0m 935us/step - loss: 0.0219 - mean_absolute_error: 0.0875 - val_loss: 0.0018 - val_mean_absolute_error: 0.0318\n",
      "Epoch 2/100\n",
      "\u001b[1m541/541\u001b[0m \u001b[32m━━━━━━━━━━━━━━━━━━━━\u001b[0m\u001b[37m\u001b[0m \u001b[1m0s\u001b[0m 781us/step - loss: 0.0013 - mean_absolute_error: 0.0258 - val_loss: 9.2909e-04 - val_mean_absolute_error: 0.0219\n",
      "Epoch 3/100\n",
      "\u001b[1m541/541\u001b[0m \u001b[32m━━━━━━━━━━━━━━━━━━━━\u001b[0m\u001b[37m\u001b[0m \u001b[1m0s\u001b[0m 794us/step - loss: 9.1408e-04 - mean_absolute_error: 0.0202 - val_loss: 7.1045e-04 - val_mean_absolute_error: 0.0173\n",
      "Epoch 4/100\n",
      "\u001b[1m541/541\u001b[0m \u001b[32m━━━━━━━━━━━━━━━━━━━━\u001b[0m\u001b[37m\u001b[0m \u001b[1m0s\u001b[0m 785us/step - loss: 8.3287e-04 - mean_absolute_error: 0.0187 - val_loss: 9.0170e-04 - val_mean_absolute_error: 0.0217\n",
      "Epoch 5/100\n",
      "\u001b[1m541/541\u001b[0m \u001b[32m━━━━━━━━━━━━━━━━━━━━\u001b[0m\u001b[37m\u001b[0m \u001b[1m0s\u001b[0m 796us/step - loss: 8.1660e-04 - mean_absolute_error: 0.0184 - val_loss: 6.3292e-04 - val_mean_absolute_error: 0.0155\n",
      "Epoch 6/100\n",
      "\u001b[1m541/541\u001b[0m \u001b[32m━━━━━━━━━━━━━━━━━━━━\u001b[0m\u001b[37m\u001b[0m \u001b[1m0s\u001b[0m 804us/step - loss: 8.2430e-04 - mean_absolute_error: 0.0185 - val_loss: 6.4757e-04 - val_mean_absolute_error: 0.0166\n",
      "Epoch 7/100\n",
      "\u001b[1m541/541\u001b[0m \u001b[32m━━━━━━━━━━━━━━━━━━━━\u001b[0m\u001b[37m\u001b[0m \u001b[1m0s\u001b[0m 809us/step - loss: 8.2396e-04 - mean_absolute_error: 0.0186 - val_loss: 7.5817e-04 - val_mean_absolute_error: 0.0189\n",
      "Epoch 8/100\n",
      "\u001b[1m541/541\u001b[0m \u001b[32m━━━━━━━━━━━━━━━━━━━━\u001b[0m\u001b[37m\u001b[0m \u001b[1m0s\u001b[0m 789us/step - loss: 8.3595e-04 - mean_absolute_error: 0.0188 - val_loss: 6.7844e-04 - val_mean_absolute_error: 0.0160\n",
      "Epoch 9/100\n",
      "\u001b[1m541/541\u001b[0m \u001b[32m━━━━━━━━━━━━━━━━━━━━\u001b[0m\u001b[37m\u001b[0m \u001b[1m0s\u001b[0m 793us/step - loss: 8.4259e-04 - mean_absolute_error: 0.0188 - val_loss: 8.4864e-04 - val_mean_absolute_error: 0.0211\n",
      "Epoch 10/100\n",
      "\u001b[1m541/541\u001b[0m \u001b[32m━━━━━━━━━━━━━━━━━━━━\u001b[0m\u001b[37m\u001b[0m \u001b[1m0s\u001b[0m 783us/step - loss: 8.4726e-04 - mean_absolute_error: 0.0188 - val_loss: 7.4975e-04 - val_mean_absolute_error: 0.0185\n",
      "Epoch 11/100\n",
      "\u001b[1m541/541\u001b[0m \u001b[32m━━━━━━━━━━━━━━━━━━━━\u001b[0m\u001b[37m\u001b[0m \u001b[1m0s\u001b[0m 793us/step - loss: 8.3579e-04 - mean_absolute_error: 0.0188 - val_loss: 6.7773e-04 - val_mean_absolute_error: 0.0162\n",
      "Epoch 12/100\n",
      "\u001b[1m541/541\u001b[0m \u001b[32m━━━━━━━━━━━━━━━━━━━━\u001b[0m\u001b[37m\u001b[0m \u001b[1m0s\u001b[0m 793us/step - loss: 8.3798e-04 - mean_absolute_error: 0.0188 - val_loss: 7.0796e-04 - val_mean_absolute_error: 0.0179\n",
      "Epoch 13/100\n",
      "\u001b[1m541/541\u001b[0m \u001b[32m━━━━━━━━━━━━━━━━━━━━\u001b[0m\u001b[37m\u001b[0m \u001b[1m0s\u001b[0m 794us/step - loss: 8.3878e-04 - mean_absolute_error: 0.0188 - val_loss: 9.9394e-04 - val_mean_absolute_error: 0.0240\n",
      "Epoch 14/100\n",
      "\u001b[1m541/541\u001b[0m \u001b[32m━━━━━━━━━━━━━━━━━━━━\u001b[0m\u001b[37m\u001b[0m \u001b[1m0s\u001b[0m 793us/step - loss: 8.3523e-04 - mean_absolute_error: 0.0187 - val_loss: 9.0722e-04 - val_mean_absolute_error: 0.0209\n",
      "Epoch 15/100\n",
      "\u001b[1m541/541\u001b[0m \u001b[32m━━━━━━━━━━━━━━━━━━━━\u001b[0m\u001b[37m\u001b[0m \u001b[1m0s\u001b[0m 787us/step - loss: 8.2941e-04 - mean_absolute_error: 0.0187 - val_loss: 9.1493e-04 - val_mean_absolute_error: 0.0221\n",
      "Epoch 16/100\n",
      "\u001b[1m541/541\u001b[0m \u001b[32m━━━━━━━━━━━━━━━━━━━━\u001b[0m\u001b[37m\u001b[0m \u001b[1m0s\u001b[0m 802us/step - loss: 8.4191e-04 - mean_absolute_error: 0.0190 - val_loss: 7.9855e-04 - val_mean_absolute_error: 0.0204\n",
      "Epoch 17/100\n",
      "\u001b[1m541/541\u001b[0m \u001b[32m━━━━━━━━━━━━━━━━━━━━\u001b[0m\u001b[37m\u001b[0m \u001b[1m0s\u001b[0m 893us/step - loss: 8.1770e-04 - mean_absolute_error: 0.0185 - val_loss: 7.0670e-04 - val_mean_absolute_error: 0.0180\n",
      "Epoch 18/100\n",
      "\u001b[1m541/541\u001b[0m \u001b[32m━━━━━━━━━━━━━━━━━━━━\u001b[0m\u001b[37m\u001b[0m \u001b[1m0s\u001b[0m 889us/step - loss: 8.2630e-04 - mean_absolute_error: 0.0186 - val_loss: 6.5003e-04 - val_mean_absolute_error: 0.0164\n",
      "Epoch 19/100\n",
      "\u001b[1m541/541\u001b[0m \u001b[32m━━━━━━━━━━━━━━━━━━━━\u001b[0m\u001b[37m\u001b[0m \u001b[1m0s\u001b[0m 870us/step - loss: 8.3270e-04 - mean_absolute_error: 0.0187 - val_loss: 8.9358e-04 - val_mean_absolute_error: 0.0219\n",
      "Epoch 20/100\n",
      "\u001b[1m541/541\u001b[0m \u001b[32m━━━━━━━━━━━━━━━━━━━━\u001b[0m\u001b[37m\u001b[0m \u001b[1m0s\u001b[0m 846us/step - loss: 8.1712e-04 - mean_absolute_error: 0.0186 - val_loss: 6.8983e-04 - val_mean_absolute_error: 0.0170\n",
      "Epoch 21/100\n",
      "\u001b[1m541/541\u001b[0m \u001b[32m━━━━━━━━━━━━━━━━━━━━\u001b[0m\u001b[37m\u001b[0m \u001b[1m0s\u001b[0m 826us/step - loss: 8.6494e-04 - mean_absolute_error: 0.0193 - val_loss: 6.6346e-04 - val_mean_absolute_error: 0.0172\n",
      "Epoch 22/100\n",
      "\u001b[1m541/541\u001b[0m \u001b[32m━━━━━━━━━━━━━━━━━━━━\u001b[0m\u001b[37m\u001b[0m \u001b[1m0s\u001b[0m 856us/step - loss: 8.4845e-04 - mean_absolute_error: 0.0190 - val_loss: 8.7840e-04 - val_mean_absolute_error: 0.0212\n",
      "Epoch 23/100\n",
      "\u001b[1m541/541\u001b[0m \u001b[32m━━━━━━━━━━━━━━━━━━━━\u001b[0m\u001b[37m\u001b[0m \u001b[1m0s\u001b[0m 815us/step - loss: 8.2834e-04 - mean_absolute_error: 0.0188 - val_loss: 8.7029e-04 - val_mean_absolute_error: 0.0196\n",
      "Epoch 24/100\n",
      "\u001b[1m541/541\u001b[0m \u001b[32m━━━━━━━━━━━━━━━━━━━━\u001b[0m\u001b[37m\u001b[0m \u001b[1m0s\u001b[0m 787us/step - loss: 8.2501e-04 - mean_absolute_error: 0.0186 - val_loss: 6.3988e-04 - val_mean_absolute_error: 0.0160\n",
      "Epoch 25/100\n",
      "\u001b[1m541/541\u001b[0m \u001b[32m━━━━━━━━━━━━━━━━━━━━\u001b[0m\u001b[37m\u001b[0m \u001b[1m0s\u001b[0m 791us/step - loss: 8.1775e-04 - mean_absolute_error: 0.0185 - val_loss: 6.6247e-04 - val_mean_absolute_error: 0.0165\n",
      "Epoch 26/100\n",
      "\u001b[1m541/541\u001b[0m \u001b[32m━━━━━━━━━━━━━━━━━━━━\u001b[0m\u001b[37m\u001b[0m \u001b[1m0s\u001b[0m 789us/step - loss: 8.1751e-04 - mean_absolute_error: 0.0185 - val_loss: 0.0012 - val_mean_absolute_error: 0.0289\n",
      "Epoch 27/100\n",
      "\u001b[1m541/541\u001b[0m \u001b[32m━━━━━━━━━━━━━━━━━━━━\u001b[0m\u001b[37m\u001b[0m \u001b[1m0s\u001b[0m 804us/step - loss: 8.4965e-04 - mean_absolute_error: 0.0189 - val_loss: 7.3145e-04 - val_mean_absolute_error: 0.0189\n",
      "Epoch 28/100\n",
      "\u001b[1m541/541\u001b[0m \u001b[32m━━━━━━━━━━━━━━━━━━━━\u001b[0m\u001b[37m\u001b[0m \u001b[1m0s\u001b[0m 798us/step - loss: 8.3076e-04 - mean_absolute_error: 0.0187 - val_loss: 6.4310e-04 - val_mean_absolute_error: 0.0162\n",
      "Epoch 29/100\n",
      "\u001b[1m541/541\u001b[0m \u001b[32m━━━━━━━━━━━━━━━━━━━━\u001b[0m\u001b[37m\u001b[0m \u001b[1m0s\u001b[0m 833us/step - loss: 8.0695e-04 - mean_absolute_error: 0.0184 - val_loss: 6.3268e-04 - val_mean_absolute_error: 0.0158\n",
      "Epoch 30/100\n",
      "\u001b[1m541/541\u001b[0m \u001b[32m━━━━━━━━━━━━━━━━━━━━\u001b[0m\u001b[37m\u001b[0m \u001b[1m0s\u001b[0m 835us/step - loss: 8.2071e-04 - mean_absolute_error: 0.0185 - val_loss: 9.5319e-04 - val_mean_absolute_error: 0.0237\n",
      "Epoch 31/100\n",
      "\u001b[1m541/541\u001b[0m \u001b[32m━━━━━━━━━━━━━━━━━━━━\u001b[0m\u001b[37m\u001b[0m \u001b[1m0s\u001b[0m 817us/step - loss: 8.1878e-04 - mean_absolute_error: 0.0185 - val_loss: 6.6050e-04 - val_mean_absolute_error: 0.0171\n",
      "Epoch 32/100\n",
      "\u001b[1m541/541\u001b[0m \u001b[32m━━━━━━━━━━━━━━━━━━━━\u001b[0m\u001b[37m\u001b[0m \u001b[1m0s\u001b[0m 820us/step - loss: 8.2222e-04 - mean_absolute_error: 0.0186 - val_loss: 7.8127e-04 - val_mean_absolute_error: 0.0199\n",
      "Epoch 33/100\n",
      "\u001b[1m541/541\u001b[0m \u001b[32m━━━━━━━━━━━━━━━━━━━━\u001b[0m\u001b[37m\u001b[0m \u001b[1m0s\u001b[0m 804us/step - loss: 8.2056e-04 - mean_absolute_error: 0.0184 - val_loss: 0.0011 - val_mean_absolute_error: 0.0259\n",
      "Epoch 34/100\n",
      "\u001b[1m541/541\u001b[0m \u001b[32m━━━━━━━━━━━━━━━━━━━━\u001b[0m\u001b[37m\u001b[0m \u001b[1m0s\u001b[0m 804us/step - loss: 8.1328e-04 - mean_absolute_error: 0.0185 - val_loss: 6.5292e-04 - val_mean_absolute_error: 0.0163\n",
      "Epoch 35/100\n",
      "\u001b[1m541/541\u001b[0m \u001b[32m━━━━━━━━━━━━━━━━━━━━\u001b[0m\u001b[37m\u001b[0m \u001b[1m0s\u001b[0m 793us/step - loss: 8.4359e-04 - mean_absolute_error: 0.0189 - val_loss: 7.0257e-04 - val_mean_absolute_error: 0.0173\n",
      "Epoch 36/100\n",
      "\u001b[1m541/541\u001b[0m \u001b[32m━━━━━━━━━━━━━━━━━━━━\u001b[0m\u001b[37m\u001b[0m \u001b[1m0s\u001b[0m 796us/step - loss: 7.9193e-04 - mean_absolute_error: 0.0180 - val_loss: 9.7010e-04 - val_mean_absolute_error: 0.0231\n",
      "Epoch 37/100\n",
      "\u001b[1m541/541\u001b[0m \u001b[32m━━━━━━━━━━━━━━━━━━━━\u001b[0m\u001b[37m\u001b[0m \u001b[1m0s\u001b[0m 793us/step - loss: 8.0387e-04 - mean_absolute_error: 0.0181 - val_loss: 6.6648e-04 - val_mean_absolute_error: 0.0170\n",
      "Epoch 38/100\n",
      "\u001b[1m541/541\u001b[0m \u001b[32m━━━━━━━━━━━━━━━━━━━━\u001b[0m\u001b[37m\u001b[0m \u001b[1m0s\u001b[0m 807us/step - loss: 8.0781e-04 - mean_absolute_error: 0.0184 - val_loss: 6.7347e-04 - val_mean_absolute_error: 0.0171\n",
      "Epoch 39/100\n",
      "\u001b[1m541/541\u001b[0m \u001b[32m━━━━━━━━━━━━━━━━━━━━\u001b[0m\u001b[37m\u001b[0m \u001b[1m0s\u001b[0m 807us/step - loss: 7.9009e-04 - mean_absolute_error: 0.0181 - val_loss: 6.4548e-04 - val_mean_absolute_error: 0.0165\n",
      "Epoch 40/100\n",
      "\u001b[1m541/541\u001b[0m \u001b[32m━━━━━━━━━━━━━━━━━━━━\u001b[0m\u001b[37m\u001b[0m \u001b[1m0s\u001b[0m 837us/step - loss: 7.8923e-04 - mean_absolute_error: 0.0180 - val_loss: 6.7617e-04 - val_mean_absolute_error: 0.0174\n",
      "Epoch 41/100\n",
      "\u001b[1m541/541\u001b[0m \u001b[32m━━━━━━━━━━━━━━━━━━━━\u001b[0m\u001b[37m\u001b[0m \u001b[1m0s\u001b[0m 802us/step - loss: 8.1895e-04 - mean_absolute_error: 0.0185 - val_loss: 8.0505e-04 - val_mean_absolute_error: 0.0195\n",
      "Epoch 42/100\n",
      "\u001b[1m541/541\u001b[0m \u001b[32m━━━━━━━━━━━━━━━━━━━━\u001b[0m\u001b[37m\u001b[0m \u001b[1m0s\u001b[0m 803us/step - loss: 7.9927e-04 - mean_absolute_error: 0.0182 - val_loss: 7.2456e-04 - val_mean_absolute_error: 0.0180\n",
      "Epoch 43/100\n",
      "\u001b[1m541/541\u001b[0m \u001b[32m━━━━━━━━━━━━━━━━━━━━\u001b[0m\u001b[37m\u001b[0m \u001b[1m0s\u001b[0m 804us/step - loss: 7.8699e-04 - mean_absolute_error: 0.0181 - val_loss: 6.4664e-04 - val_mean_absolute_error: 0.0166\n",
      "Epoch 44/100\n",
      "\u001b[1m541/541\u001b[0m \u001b[32m━━━━━━━━━━━━━━━━━━━━\u001b[0m\u001b[37m\u001b[0m \u001b[1m0s\u001b[0m 804us/step - loss: 7.9484e-04 - mean_absolute_error: 0.0182 - val_loss: 6.9040e-04 - val_mean_absolute_error: 0.0175\n",
      "Epoch 45/100\n",
      "\u001b[1m541/541\u001b[0m \u001b[32m━━━━━━━━━━━━━━━━━━━━\u001b[0m\u001b[37m\u001b[0m \u001b[1m0s\u001b[0m 794us/step - loss: 7.8918e-04 - mean_absolute_error: 0.0180 - val_loss: 6.4502e-04 - val_mean_absolute_error: 0.0163\n",
      "Epoch 46/100\n",
      "\u001b[1m541/541\u001b[0m \u001b[32m━━━━━━━━━━━━━━━━━━━━\u001b[0m\u001b[37m\u001b[0m \u001b[1m0s\u001b[0m 795us/step - loss: 7.8740e-04 - mean_absolute_error: 0.0181 - val_loss: 6.2684e-04 - val_mean_absolute_error: 0.0155\n",
      "Epoch 47/100\n",
      "\u001b[1m541/541\u001b[0m \u001b[32m━━━━━━━━━━━━━━━━━━━━\u001b[0m\u001b[37m\u001b[0m \u001b[1m0s\u001b[0m 805us/step - loss: 7.7825e-04 - mean_absolute_error: 0.0180 - val_loss: 6.4631e-04 - val_mean_absolute_error: 0.0164\n",
      "Epoch 48/100\n",
      "\u001b[1m541/541\u001b[0m \u001b[32m━━━━━━━━━━━━━━━━━━━━\u001b[0m\u001b[37m\u001b[0m \u001b[1m0s\u001b[0m 796us/step - loss: 7.8040e-04 - mean_absolute_error: 0.0178 - val_loss: 7.9763e-04 - val_mean_absolute_error: 0.0189\n",
      "Epoch 49/100\n",
      "\u001b[1m541/541\u001b[0m \u001b[32m━━━━━━━━━━━━━━━━━━━━\u001b[0m\u001b[37m\u001b[0m \u001b[1m0s\u001b[0m 799us/step - loss: 7.8931e-04 - mean_absolute_error: 0.0180 - val_loss: 6.7392e-04 - val_mean_absolute_error: 0.0174\n",
      "Epoch 50/100\n",
      "\u001b[1m541/541\u001b[0m \u001b[32m━━━━━━━━━━━━━━━━━━━━\u001b[0m\u001b[37m\u001b[0m \u001b[1m0s\u001b[0m 798us/step - loss: 7.7972e-04 - mean_absolute_error: 0.0179 - val_loss: 7.0895e-04 - val_mean_absolute_error: 0.0177\n",
      "Epoch 51/100\n",
      "\u001b[1m541/541\u001b[0m \u001b[32m━━━━━━━━━━━━━━━━━━━━\u001b[0m\u001b[37m\u001b[0m \u001b[1m0s\u001b[0m 802us/step - loss: 8.0907e-04 - mean_absolute_error: 0.0184 - val_loss: 6.3502e-04 - val_mean_absolute_error: 0.0156\n",
      "Epoch 52/100\n",
      "\u001b[1m541/541\u001b[0m \u001b[32m━━━━━━━━━━━━━━━━━━━━\u001b[0m\u001b[37m\u001b[0m \u001b[1m0s\u001b[0m 804us/step - loss: 7.8525e-04 - mean_absolute_error: 0.0178 - val_loss: 6.6008e-04 - val_mean_absolute_error: 0.0165\n",
      "Epoch 53/100\n",
      "\u001b[1m541/541\u001b[0m \u001b[32m━━━━━━━━━━━━━━━━━━━━\u001b[0m\u001b[37m\u001b[0m \u001b[1m0s\u001b[0m 802us/step - loss: 7.8290e-04 - mean_absolute_error: 0.0180 - val_loss: 6.9756e-04 - val_mean_absolute_error: 0.0181\n",
      "Epoch 54/100\n",
      "\u001b[1m541/541\u001b[0m \u001b[32m━━━━━━━━━━━━━━━━━━━━\u001b[0m\u001b[37m\u001b[0m \u001b[1m0s\u001b[0m 798us/step - loss: 7.6809e-04 - mean_absolute_error: 0.0177 - val_loss: 8.9479e-04 - val_mean_absolute_error: 0.0220\n",
      "Epoch 55/100\n",
      "\u001b[1m541/541\u001b[0m \u001b[32m━━━━━━━━━━━━━━━━━━━━\u001b[0m\u001b[37m\u001b[0m \u001b[1m0s\u001b[0m 839us/step - loss: 7.8235e-04 - mean_absolute_error: 0.0180 - val_loss: 6.3588e-04 - val_mean_absolute_error: 0.0155\n",
      "Epoch 56/100\n",
      "\u001b[1m541/541\u001b[0m \u001b[32m━━━━━━━━━━━━━━━━━━━━\u001b[0m\u001b[37m\u001b[0m \u001b[1m0s\u001b[0m 793us/step - loss: 7.7787e-04 - mean_absolute_error: 0.0178 - val_loss: 6.2722e-04 - val_mean_absolute_error: 0.0158\n",
      "Epoch 57/100\n",
      "\u001b[1m541/541\u001b[0m \u001b[32m━━━━━━━━━━━━━━━━━━━━\u001b[0m\u001b[37m\u001b[0m \u001b[1m0s\u001b[0m 800us/step - loss: 7.6294e-04 - mean_absolute_error: 0.0175 - val_loss: 7.0718e-04 - val_mean_absolute_error: 0.0176\n",
      "Epoch 58/100\n",
      "\u001b[1m541/541\u001b[0m \u001b[32m━━━━━━━━━━━━━━━━━━━━\u001b[0m\u001b[37m\u001b[0m \u001b[1m0s\u001b[0m 796us/step - loss: 7.7359e-04 - mean_absolute_error: 0.0178 - val_loss: 6.4417e-04 - val_mean_absolute_error: 0.0161\n",
      "Epoch 59/100\n",
      "\u001b[1m541/541\u001b[0m \u001b[32m━━━━━━━━━━━━━━━━━━━━\u001b[0m\u001b[37m\u001b[0m \u001b[1m0s\u001b[0m 798us/step - loss: 7.7483e-04 - mean_absolute_error: 0.0178 - val_loss: 6.6880e-04 - val_mean_absolute_error: 0.0169\n",
      "Epoch 60/100\n",
      "\u001b[1m541/541\u001b[0m \u001b[32m━━━━━━━━━━━━━━━━━━━━\u001b[0m\u001b[37m\u001b[0m \u001b[1m0s\u001b[0m 794us/step - loss: 7.7362e-04 - mean_absolute_error: 0.0177 - val_loss: 6.6445e-04 - val_mean_absolute_error: 0.0171\n",
      "Epoch 61/100\n",
      "\u001b[1m541/541\u001b[0m \u001b[32m━━━━━━━━━━━━━━━━━━━━\u001b[0m\u001b[37m\u001b[0m \u001b[1m0s\u001b[0m 806us/step - loss: 7.6376e-04 - mean_absolute_error: 0.0176 - val_loss: 6.2985e-04 - val_mean_absolute_error: 0.0157\n",
      "Epoch 62/100\n",
      "\u001b[1m541/541\u001b[0m \u001b[32m━━━━━━━━━━━━━━━━━━━━\u001b[0m\u001b[37m\u001b[0m \u001b[1m0s\u001b[0m 792us/step - loss: 7.6181e-04 - mean_absolute_error: 0.0175 - val_loss: 6.3406e-04 - val_mean_absolute_error: 0.0163\n",
      "Epoch 63/100\n",
      "\u001b[1m541/541\u001b[0m \u001b[32m━━━━━━━━━━━━━━━━━━━━\u001b[0m\u001b[37m\u001b[0m \u001b[1m0s\u001b[0m 811us/step - loss: 7.6059e-04 - mean_absolute_error: 0.0175 - val_loss: 6.5501e-04 - val_mean_absolute_error: 0.0165\n",
      "Epoch 64/100\n",
      "\u001b[1m541/541\u001b[0m \u001b[32m━━━━━━━━━━━━━━━━━━━━\u001b[0m\u001b[37m\u001b[0m \u001b[1m0s\u001b[0m 804us/step - loss: 7.7469e-04 - mean_absolute_error: 0.0177 - val_loss: 6.7575e-04 - val_mean_absolute_error: 0.0176\n",
      "Epoch 65/100\n",
      "\u001b[1m541/541\u001b[0m \u001b[32m━━━━━━━━━━━━━━━━━━━━\u001b[0m\u001b[37m\u001b[0m \u001b[1m0s\u001b[0m 802us/step - loss: 7.6329e-04 - mean_absolute_error: 0.0176 - val_loss: 6.3438e-04 - val_mean_absolute_error: 0.0160\n",
      "Epoch 66/100\n",
      "\u001b[1m541/541\u001b[0m \u001b[32m━━━━━━━━━━━━━━━━━━━━\u001b[0m\u001b[37m\u001b[0m \u001b[1m0s\u001b[0m 794us/step - loss: 7.6961e-04 - mean_absolute_error: 0.0176 - val_loss: 6.8538e-04 - val_mean_absolute_error: 0.0166\n",
      "Epoch 67/100\n",
      "\u001b[1m541/541\u001b[0m \u001b[32m━━━━━━━━━━━━━━━━━━━━\u001b[0m\u001b[37m\u001b[0m \u001b[1m0s\u001b[0m 794us/step - loss: 7.5779e-04 - mean_absolute_error: 0.0174 - val_loss: 6.4073e-04 - val_mean_absolute_error: 0.0167\n",
      "Epoch 68/100\n",
      "\u001b[1m541/541\u001b[0m \u001b[32m━━━━━━━━━━━━━━━━━━━━\u001b[0m\u001b[37m\u001b[0m \u001b[1m0s\u001b[0m 796us/step - loss: 7.5765e-04 - mean_absolute_error: 0.0174 - val_loss: 6.4964e-04 - val_mean_absolute_error: 0.0161\n",
      "Epoch 69/100\n",
      "\u001b[1m541/541\u001b[0m \u001b[32m━━━━━━━━━━━━━━━━━━━━\u001b[0m\u001b[37m\u001b[0m \u001b[1m0s\u001b[0m 804us/step - loss: 7.6016e-04 - mean_absolute_error: 0.0174 - val_loss: 6.4076e-04 - val_mean_absolute_error: 0.0165\n",
      "Epoch 70/100\n",
      "\u001b[1m541/541\u001b[0m \u001b[32m━━━━━━━━━━━━━━━━━━━━\u001b[0m\u001b[37m\u001b[0m \u001b[1m1s\u001b[0m 925us/step - loss: 7.6174e-04 - mean_absolute_error: 0.0176 - val_loss: 6.3765e-04 - val_mean_absolute_error: 0.0159\n",
      "Epoch 71/100\n",
      "\u001b[1m541/541\u001b[0m \u001b[32m━━━━━━━━━━━━━━━━━━━━\u001b[0m\u001b[37m\u001b[0m \u001b[1m0s\u001b[0m 806us/step - loss: 7.6192e-04 - mean_absolute_error: 0.0175 - val_loss: 6.3863e-04 - val_mean_absolute_error: 0.0162\n",
      "Epoch 72/100\n",
      "\u001b[1m541/541\u001b[0m \u001b[32m━━━━━━━━━━━━━━━━━━━━\u001b[0m\u001b[37m\u001b[0m \u001b[1m0s\u001b[0m 798us/step - loss: 7.5320e-04 - mean_absolute_error: 0.0174 - val_loss: 6.4247e-04 - val_mean_absolute_error: 0.0167\n",
      "Epoch 73/100\n",
      "\u001b[1m541/541\u001b[0m \u001b[32m━━━━━━━━━━━━━━━━━━━━\u001b[0m\u001b[37m\u001b[0m \u001b[1m0s\u001b[0m 861us/step - loss: 7.5768e-04 - mean_absolute_error: 0.0175 - val_loss: 6.9600e-04 - val_mean_absolute_error: 0.0172\n",
      "Epoch 74/100\n",
      "\u001b[1m541/541\u001b[0m \u001b[32m━━━━━━━━━━━━━━━━━━━━\u001b[0m\u001b[37m\u001b[0m \u001b[1m0s\u001b[0m 843us/step - loss: 7.7078e-04 - mean_absolute_error: 0.0177 - val_loss: 7.1085e-04 - val_mean_absolute_error: 0.0184\n",
      "Epoch 75/100\n",
      "\u001b[1m541/541\u001b[0m \u001b[32m━━━━━━━━━━━━━━━━━━━━\u001b[0m\u001b[37m\u001b[0m \u001b[1m0s\u001b[0m 794us/step - loss: 7.4605e-04 - mean_absolute_error: 0.0173 - val_loss: 6.4458e-04 - val_mean_absolute_error: 0.0167\n",
      "Epoch 76/100\n",
      "\u001b[1m541/541\u001b[0m \u001b[32m━━━━━━━━━━━━━━━━━━━━\u001b[0m\u001b[37m\u001b[0m \u001b[1m0s\u001b[0m 806us/step - loss: 7.5879e-04 - mean_absolute_error: 0.0175 - val_loss: 6.3043e-04 - val_mean_absolute_error: 0.0163\n",
      "Epoch 77/100\n",
      "\u001b[1m541/541\u001b[0m \u001b[32m━━━━━━━━━━━━━━━━━━━━\u001b[0m\u001b[37m\u001b[0m \u001b[1m0s\u001b[0m 798us/step - loss: 7.5138e-04 - mean_absolute_error: 0.0173 - val_loss: 6.7773e-04 - val_mean_absolute_error: 0.0173\n",
      "Epoch 78/100\n",
      "\u001b[1m541/541\u001b[0m \u001b[32m━━━━━━━━━━━━━━━━━━━━\u001b[0m\u001b[37m\u001b[0m \u001b[1m0s\u001b[0m 804us/step - loss: 7.4993e-04 - mean_absolute_error: 0.0174 - val_loss: 7.5058e-04 - val_mean_absolute_error: 0.0192\n",
      "Epoch 79/100\n",
      "\u001b[1m541/541\u001b[0m \u001b[32m━━━━━━━━━━━━━━━━━━━━\u001b[0m\u001b[37m\u001b[0m \u001b[1m0s\u001b[0m 811us/step - loss: 7.5392e-04 - mean_absolute_error: 0.0173 - val_loss: 6.3632e-04 - val_mean_absolute_error: 0.0165\n",
      "Epoch 80/100\n",
      "\u001b[1m541/541\u001b[0m \u001b[32m━━━━━━━━━━━━━━━━━━━━\u001b[0m\u001b[37m\u001b[0m \u001b[1m0s\u001b[0m 803us/step - loss: 7.4457e-04 - mean_absolute_error: 0.0172 - val_loss: 6.8053e-04 - val_mean_absolute_error: 0.0177\n",
      "Epoch 81/100\n",
      "\u001b[1m541/541\u001b[0m \u001b[32m━━━━━━━━━━━━━━━━━━━━\u001b[0m\u001b[37m\u001b[0m \u001b[1m1s\u001b[0m 902us/step - loss: 7.5447e-04 - mean_absolute_error: 0.0174 - val_loss: 6.2594e-04 - val_mean_absolute_error: 0.0160\n",
      "Epoch 82/100\n",
      "\u001b[1m541/541\u001b[0m \u001b[32m━━━━━━━━━━━━━━━━━━━━\u001b[0m\u001b[37m\u001b[0m \u001b[1m0s\u001b[0m 824us/step - loss: 7.4745e-04 - mean_absolute_error: 0.0172 - val_loss: 6.3111e-04 - val_mean_absolute_error: 0.0161\n",
      "Epoch 83/100\n",
      "\u001b[1m541/541\u001b[0m \u001b[32m━━━━━━━━━━━━━━━━━━━━\u001b[0m\u001b[37m\u001b[0m \u001b[1m0s\u001b[0m 795us/step - loss: 7.4449e-04 - mean_absolute_error: 0.0172 - val_loss: 6.7233e-04 - val_mean_absolute_error: 0.0165\n",
      "Epoch 84/100\n",
      "\u001b[1m541/541\u001b[0m \u001b[32m━━━━━━━━━━━━━━━━━━━━\u001b[0m\u001b[37m\u001b[0m \u001b[1m0s\u001b[0m 796us/step - loss: 7.5261e-04 - mean_absolute_error: 0.0174 - val_loss: 6.2408e-04 - val_mean_absolute_error: 0.0156\n",
      "Epoch 85/100\n",
      "\u001b[1m541/541\u001b[0m \u001b[32m━━━━━━━━━━━━━━━━━━━━\u001b[0m\u001b[37m\u001b[0m \u001b[1m0s\u001b[0m 794us/step - loss: 7.4282e-04 - mean_absolute_error: 0.0171 - val_loss: 6.5586e-04 - val_mean_absolute_error: 0.0169\n",
      "Epoch 86/100\n",
      "\u001b[1m541/541\u001b[0m \u001b[32m━━━━━━━━━━━━━━━━━━━━\u001b[0m\u001b[37m\u001b[0m \u001b[1m0s\u001b[0m 792us/step - loss: 7.4565e-04 - mean_absolute_error: 0.0173 - val_loss: 6.3425e-04 - val_mean_absolute_error: 0.0163\n",
      "Epoch 87/100\n",
      "\u001b[1m541/541\u001b[0m \u001b[32m━━━━━━━━━━━━━━━━━━━━\u001b[0m\u001b[37m\u001b[0m \u001b[1m0s\u001b[0m 797us/step - loss: 7.4844e-04 - mean_absolute_error: 0.0173 - val_loss: 6.7807e-04 - val_mean_absolute_error: 0.0164\n",
      "Epoch 88/100\n",
      "\u001b[1m541/541\u001b[0m \u001b[32m━━━━━━━━━━━━━━━━━━━━\u001b[0m\u001b[37m\u001b[0m \u001b[1m0s\u001b[0m 791us/step - loss: 7.4271e-04 - mean_absolute_error: 0.0172 - val_loss: 6.4539e-04 - val_mean_absolute_error: 0.0160\n",
      "Epoch 89/100\n",
      "\u001b[1m541/541\u001b[0m \u001b[32m━━━━━━━━━━━━━━━━━━━━\u001b[0m\u001b[37m\u001b[0m \u001b[1m0s\u001b[0m 787us/step - loss: 7.3992e-04 - mean_absolute_error: 0.0171 - val_loss: 6.4060e-04 - val_mean_absolute_error: 0.0164\n",
      "Epoch 90/100\n",
      "\u001b[1m541/541\u001b[0m \u001b[32m━━━━━━━━━━━━━━━━━━━━\u001b[0m\u001b[37m\u001b[0m \u001b[1m0s\u001b[0m 791us/step - loss: 7.4616e-04 - mean_absolute_error: 0.0172 - val_loss: 6.6097e-04 - val_mean_absolute_error: 0.0164\n",
      "Epoch 91/100\n",
      "\u001b[1m541/541\u001b[0m \u001b[32m━━━━━━━━━━━━━━━━━━━━\u001b[0m\u001b[37m\u001b[0m \u001b[1m0s\u001b[0m 804us/step - loss: 7.4474e-04 - mean_absolute_error: 0.0172 - val_loss: 6.3539e-04 - val_mean_absolute_error: 0.0164\n",
      "Epoch 92/100\n",
      "\u001b[1m541/541\u001b[0m \u001b[32m━━━━━━━━━━━━━━━━━━━━\u001b[0m\u001b[37m\u001b[0m \u001b[1m0s\u001b[0m 791us/step - loss: 7.4189e-04 - mean_absolute_error: 0.0172 - val_loss: 6.4730e-04 - val_mean_absolute_error: 0.0167\n",
      "Epoch 93/100\n",
      "\u001b[1m541/541\u001b[0m \u001b[32m━━━━━━━━━━━━━━━━━━━━\u001b[0m\u001b[37m\u001b[0m \u001b[1m0s\u001b[0m 802us/step - loss: 7.4154e-04 - mean_absolute_error: 0.0171 - val_loss: 6.3183e-04 - val_mean_absolute_error: 0.0162\n",
      "Epoch 94/100\n",
      "\u001b[1m541/541\u001b[0m \u001b[32m━━━━━━━━━━━━━━━━━━━━\u001b[0m\u001b[37m\u001b[0m \u001b[1m0s\u001b[0m 793us/step - loss: 7.4120e-04 - mean_absolute_error: 0.0172 - val_loss: 6.2951e-04 - val_mean_absolute_error: 0.0158\n",
      "Epoch 95/100\n",
      "\u001b[1m541/541\u001b[0m \u001b[32m━━━━━━━━━━━━━━━━━━━━\u001b[0m\u001b[37m\u001b[0m \u001b[1m0s\u001b[0m 794us/step - loss: 7.4119e-04 - mean_absolute_error: 0.0171 - val_loss: 6.3953e-04 - val_mean_absolute_error: 0.0162\n",
      "Epoch 96/100\n",
      "\u001b[1m541/541\u001b[0m \u001b[32m━━━━━━━━━━━━━━━━━━━━\u001b[0m\u001b[37m\u001b[0m \u001b[1m0s\u001b[0m 795us/step - loss: 7.4395e-04 - mean_absolute_error: 0.0172 - val_loss: 6.2463e-04 - val_mean_absolute_error: 0.0157\n",
      "Epoch 97/100\n",
      "\u001b[1m541/541\u001b[0m \u001b[32m━━━━━━━━━━━━━━━━━━━━\u001b[0m\u001b[37m\u001b[0m \u001b[1m0s\u001b[0m 802us/step - loss: 7.3657e-04 - mean_absolute_error: 0.0170 - val_loss: 6.3983e-04 - val_mean_absolute_error: 0.0165\n",
      "Epoch 98/100\n",
      "\u001b[1m541/541\u001b[0m \u001b[32m━━━━━━━━━━━━━━━━━━━━\u001b[0m\u001b[37m\u001b[0m \u001b[1m0s\u001b[0m 796us/step - loss: 7.3489e-04 - mean_absolute_error: 0.0171 - val_loss: 6.2978e-04 - val_mean_absolute_error: 0.0159\n",
      "Epoch 99/100\n",
      "\u001b[1m541/541\u001b[0m \u001b[32m━━━━━━━━━━━━━━━━━━━━\u001b[0m\u001b[37m\u001b[0m \u001b[1m0s\u001b[0m 807us/step - loss: 7.4039e-04 - mean_absolute_error: 0.0172 - val_loss: 6.3110e-04 - val_mean_absolute_error: 0.0160\n",
      "Epoch 100/100\n",
      "\u001b[1m541/541\u001b[0m \u001b[32m━━━━━━━━━━━━━━━━━━━━\u001b[0m\u001b[37m\u001b[0m \u001b[1m0s\u001b[0m 891us/step - loss: 7.3649e-04 - mean_absolute_error: 0.0170 - val_loss: 6.4555e-04 - val_mean_absolute_error: 0.0166\n"
     ]
    }
   ],
   "source": [
    "history = model.fit(xTrain, yTrain, batch_size = 32, epochs = 100, validation_data = (xTest, yTest))"
   ]
  },
  {
   "cell_type": "code",
   "execution_count": 20,
   "id": "1693f7f5-0b45-426b-a0e7-defd96926a4b",
   "metadata": {},
   "outputs": [],
   "source": [
    "#Testando o Modelo"
   ]
  },
  {
   "cell_type": "code",
   "execution_count": 21,
   "id": "ed606231-ceaf-494e-a504-55904a00d160",
   "metadata": {},
   "outputs": [
    {
     "name": "stdout",
     "output_type": "stream",
     "text": [
      "\u001b[1m136/136\u001b[0m \u001b[32m━━━━━━━━━━━━━━━━━━━━\u001b[0m\u001b[37m\u001b[0m \u001b[1m0s\u001b[0m 556us/step\n"
     ]
    }
   ],
   "source": [
    "yTest = yscaler.inverse_transform(yTest)\n",
    "prediction = yscaler.inverse_transform(model.predict(xTest))"
   ]
  },
  {
   "cell_type": "code",
   "execution_count": 22,
   "id": "25cd22af-c688-4a69-a1a0-6d4a3f73f9e2",
   "metadata": {},
   "outputs": [],
   "source": [
    "#Gráfico com valores reais e previstos"
   ]
  },
  {
   "cell_type": "code",
   "execution_count": 23,
   "id": "54e7fa70-cb26-41bb-b8d4-dd7da482a4cd",
   "metadata": {},
   "outputs": [
    {
     "data": {
      "image/png": "[encoded data removed]",
      "text/plain": [
       "<Figure size 600x600 with 1 Axes>"
      ]
     },
     "metadata": {},
     "output_type": "display_data"
    }
   ],
   "source": [
    "plt.figure(figsize=(6,6))\n",
    "plt.scatter(yTest, prediction, alpha=0.5)\n",
    "plt.plot([yTest.min(), yTest.max()], [yTest.min(), yTest.max()], 'r--')\n",
    "plt.xlabel('Valor Real')\n",
    "plt.ylabel('Valor Previsto')\n",
    "plt.title('Real vs Previsto')\n",
    "plt.show()"
   ]
  },
  {
   "cell_type": "code",
   "execution_count": 24,
   "id": "6ad2c3f4-6ff9-4027-a680-722e56c6b592",
   "metadata": {},
   "outputs": [],
   "source": [
    "#Gráfico com a Evolução da Loss por Epoch"
   ]
  },
  {
   "cell_type": "code",
   "execution_count": 25,
   "id": "3c71bc3d-08b7-4c17-910a-36d48c9520df",
   "metadata": {},
   "outputs": [
    {
     "data": {
      "image/png": "[encoded data removed]",
      "text/plain": [
       "<Figure size 640x480 with 1 Axes>"
      ]
     },
     "metadata": {},
     "output_type": "display_data"
    }
   ],
   "source": [
    "plt.plot(history.history['loss'], label='Treino')\n",
    "plt.plot(history.history['val_loss'], label='Validação')\n",
    "plt.title('Evolução da Loss por Epoch')\n",
    "plt.xlabel('Epochs')\n",
    "plt.ylabel('MSE')\n",
    "plt.legend()\n",
    "plt.show()"
   ]
  },
  {
   "cell_type": "code",
   "execution_count": 26,
   "id": "78e0f2ff-972f-4c09-96ca-1ff328dd1d49",
   "metadata": {},
   "outputs": [],
   "source": [
    "#Erro Médio Absoluto"
   ]
  },
  {
   "cell_type": "code",
   "execution_count": 27,
   "id": "8ecece3f-e522-4b85-8d0b-d657b43f362d",
   "metadata": {},
   "outputs": [
    {
     "name": "stdout",
     "output_type": "stream",
     "text": [
      "0.2667105857092805\n"
     ]
    }
   ],
   "source": [
    "error = abs(prediction - yTest)/yTest\n",
    "print(np.mean(error))"
   ]
  }
 ],
 "metadata": {
  "kernelspec": {
   "display_name": "Python 3 (ipykernel)",
   "language": "python",
   "name": "python3"
  },
  "language_info": {
   "codemirror_mode": {
    "name": "ipython",
    "version": 3
   },
   "file_extension": ".py",
   "mimetype": "text/x-python",
   "name": "python",
   "nbconvert_exporter": "python",
   "pygments_lexer": "ipython3",
   "version": "3.12.4"
  }
 },
 "nbformat": 4,
 "nbformat_minor": 5
}
